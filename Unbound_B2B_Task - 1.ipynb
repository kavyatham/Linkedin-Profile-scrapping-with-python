{
 "cells": [
  {
   "cell_type": "markdown",
   "metadata": {},
   "source": [
    "# LINKEDIN PROFILE SCRAPING USING PYTHON, BeautifulSoup"
   ]
  },
  {
   "cell_type": "code",
   "execution_count": 1,
   "metadata": {},
   "outputs": [],
   "source": [
    "import os, random, sys, time\n",
    "from urllib.parse import urlparse\n",
    "from selenium import webdriver\n",
    "from bs4 import BeautifulSoup"
   ]
  },
  {
   "cell_type": "markdown",
   "metadata": {},
   "source": [
    "### setting the webdriver to specific path for automatic login into LINKDINE"
   ]
  },
  {
   "cell_type": "code",
   "execution_count": 2,
   "metadata": {},
   "outputs": [],
   "source": [
    "# setting the webdriver to specific path for automatic login into LINKDINE\n",
    "\n",
    "browser = webdriver.Chrome('C:/Unbound/chromedriver.exe')\n",
    "browser.get('https://www.linkedin.com/uas/login')\n",
    "file = open('config.txt')\n",
    "lines = file.readlines()\n",
    "username = lines[0]\n",
    "password = lines[1]\n",
    "elementID = browser.find_element_by_id('username')\n",
    "elementID.send_keys(username)\n",
    "elementID = browser.find_element_by_id('password')\n",
    "elementID.send_keys(password)\n",
    "elementID.submit()"
   ]
  },
  {
   "cell_type": "markdown",
   "metadata": {},
   "source": [
    "### PROVIDING THE PARTICULAR PROFILE_URL TO BROWSER"
   ]
  },
  {
   "cell_type": "code",
   "execution_count": 3,
   "metadata": {},
   "outputs": [],
   "source": [
    "# PROVIDING THE PARTICULAR PROFILE_URL TO BROWSER\n",
    "\n",
    "link = 'https://www.linkedin.com/public-profile/settings?trk=d_flagship3_profile_self_view_public_profile'\n",
    "browser.get(link)"
   ]
  },
  {
   "cell_type": "markdown",
   "metadata": {},
   "source": [
    "### SCROLLING THE WEB PAGE"
   ]
  },
  {
   "cell_type": "code",
   "execution_count": 4,
   "metadata": {},
   "outputs": [],
   "source": [
    "#SCROLLING THE WEB PAGE\n",
    "\n",
    "SCROLL_PAUSE_TIME = 5\n",
    "last_height = browser.execute_script(\"return document.body.scrollHeight\")\n",
    "for i in range(3):\n",
    "    browser.execute_script(\"window.scrollTo(0, document.body.scrollHeight);\")\n",
    "    \n",
    "    #wait to loaaad page\n",
    "    time.sleep(SCROLL_PAUSE_TIME)\n",
    "    \n",
    "    #CALCULATE new scroll height and compare with last scroll height\n",
    "    new_height = browser.execute_script(\"return document.body.scrollHeight\")\n",
    "    if new_height == last_height:\n",
    "        break\n",
    "    last_height = new_height"
   ]
  },
  {
   "cell_type": "markdown",
   "metadata": {},
   "source": [
    "### USING THE BEAUTIFULSOUP SCRAPING THE ALL DATA "
   ]
  },
  {
   "cell_type": "raw",
   "metadata": {},
   "source": [
    "# USING THE BEAUTIFULSOUP SCRAPING THE ALL DATA \n",
    "\n",
    "src = browser.page_source\n",
    "soup = BeautifulSoup(src, 'lxml')\n",
    "soup"
   ]
  },
  {
   "cell_type": "markdown",
   "metadata": {},
   "source": [
    "### SRAPPING ABOUT THE PROFILE DETAILS"
   ]
  },
  {
   "cell_type": "raw",
   "metadata": {},
   "source": [
    "name_div = soup.find('div', {'class':\"top-card-layout__entity-info-container\"})\n",
    "name_div"
   ]
  },
  {
   "cell_type": "code",
   "execution_count": 112,
   "metadata": {},
   "outputs": [
    {
     "data": {
      "text/plain": [
       "'Kavya T'"
      ]
     },
     "execution_count": 112,
     "metadata": {},
     "output_type": "execute_result"
    }
   ],
   "source": [
    "name_loc = name_div.find_all('div')\n",
    "name = name_loc[0].find('h1').get_text().strip()\n",
    "name"
   ]
  },
  {
   "cell_type": "code",
   "execution_count": 113,
   "metadata": {},
   "outputs": [
    {
     "data": {
      "text/plain": [
       "'looking for Data Science job'"
      ]
     },
     "execution_count": 113,
     "metadata": {},
     "output_type": "execute_result"
    }
   ],
   "source": [
    "name_loc = name_div.find_all('div')\n",
    "profile_title = name_loc[0].find('h2').get_text().strip()\n",
    "profile_title"
   ]
  },
  {
   "cell_type": "code",
   "execution_count": 114,
   "metadata": {},
   "outputs": [
    {
     "data": {
      "text/plain": [
       "'Hyderabad, Telangana, India'"
      ]
     },
     "execution_count": 114,
     "metadata": {},
     "output_type": "execute_result"
    }
   ],
   "source": [
    "name_loc = name_div.find_all('h3')\n",
    "location = name_loc[0].find('span').get_text().strip()\n",
    "location"
   ]
  },
  {
   "cell_type": "code",
   "execution_count": 115,
   "metadata": {},
   "outputs": [
    {
     "data": {
      "text/plain": [
       "'500+ connections'"
      ]
     },
     "execution_count": 115,
     "metadata": {},
     "output_type": "execute_result"
    }
   ],
   "source": [
    "connections = name_loc[0].find_all('span')\n",
    "connections = connections[1].get_text().strip()\n",
    "connections\n"
   ]
  },
  {
   "cell_type": "markdown",
   "metadata": {},
   "source": [
    "### Srcaping the Experience Details"
   ]
  },
  {
   "cell_type": "raw",
   "metadata": {},
   "source": [
    "experience_section = soup.find_all('section', {'class': 'core-section-container core-section-container--with-border pp-section experience with-transition'})\n",
    "experience_section"
   ]
  },
  {
   "cell_type": "code",
   "execution_count": 118,
   "metadata": {},
   "outputs": [
    {
     "data": {
      "text/plain": [
       "'Experience'"
      ]
     },
     "execution_count": 118,
     "metadata": {},
     "output_type": "execute_result"
    }
   ],
   "source": [
    "Experience = experience_section[0].find('h2').get_text().strip()\n",
    "Experience"
   ]
  },
  {
   "cell_type": "code",
   "execution_count": 119,
   "metadata": {},
   "outputs": [
    {
     "data": {
      "text/plain": [
       "'Data Science Intern'"
      ]
     },
     "execution_count": 119,
     "metadata": {},
     "output_type": "execute_result"
    }
   ],
   "source": [
    "company1 = experience_section[0].find('h3').get_text().strip()\n",
    "company1"
   ]
  },
  {
   "cell_type": "code",
   "execution_count": 120,
   "metadata": {},
   "outputs": [
    {
     "data": {
      "text/plain": [
       "'UnboundB2B'"
      ]
     },
     "execution_count": 120,
     "metadata": {},
     "output_type": "execute_result"
    }
   ],
   "source": [
    "position1 = experience_section[0].find('h4').get_text().strip()\n",
    "position1"
   ]
  },
  {
   "cell_type": "code",
   "execution_count": 121,
   "metadata": {},
   "outputs": [
    {
     "data": {
      "text/plain": [
       "'3 months'"
      ]
     },
     "execution_count": 121,
     "metadata": {},
     "output_type": "execute_result"
    }
   ],
   "source": [
    "join_date1 = experience_section[0].find_all('span')[1].get_text().strip()\n",
    "join_date1"
   ]
  },
  {
   "cell_type": "code",
   "execution_count": 122,
   "metadata": {},
   "outputs": [
    {
     "data": {
      "text/plain": [
       "'Jun 2021 - Present3 months'"
      ]
     },
     "execution_count": 122,
     "metadata": {},
     "output_type": "execute_result"
    }
   ],
   "source": [
    "join_date = experience_section[0].find_all('p')[0].get_text().strip()\n",
    "join_date"
   ]
  },
  {
   "cell_type": "code",
   "execution_count": 123,
   "metadata": {},
   "outputs": [
    {
     "data": {
      "text/plain": [
       "'India'"
      ]
     },
     "execution_count": 123,
     "metadata": {},
     "output_type": "execute_result"
    }
   ],
   "source": [
    "country = experience_section[0].find_all('p')[2].get_text().strip()\n",
    "country"
   ]
  },
  {
   "cell_type": "code",
   "execution_count": 124,
   "metadata": {},
   "outputs": [
    {
     "data": {
      "text/plain": [
       "'Python Developer'"
      ]
     },
     "execution_count": 124,
     "metadata": {},
     "output_type": "execute_result"
    }
   ],
   "source": [
    "position = experience_section[0].find_all('h3')[1].get_text().strip()\n",
    "position"
   ]
  },
  {
   "cell_type": "code",
   "execution_count": 125,
   "metadata": {},
   "outputs": [
    {
     "data": {
      "text/plain": [
       "'powertex'"
      ]
     },
     "execution_count": 125,
     "metadata": {},
     "output_type": "execute_result"
    }
   ],
   "source": [
    "company = experience_section[0].find_all('h4')[1].get_text().strip()\n",
    "company"
   ]
  },
  {
   "cell_type": "code",
   "execution_count": 126,
   "metadata": {},
   "outputs": [
    {
     "data": {
      "text/plain": [
       "'9 months'"
      ]
     },
     "execution_count": 126,
     "metadata": {},
     "output_type": "execute_result"
    }
   ],
   "source": [
    "months = experience_section[0].find_all('span')[3].get_text().strip()\n",
    "months"
   ]
  },
  {
   "cell_type": "code",
   "execution_count": 127,
   "metadata": {},
   "outputs": [
    {
     "data": {
      "text/plain": [
       "'Oct 2020 - Jun 20219 months'"
      ]
     },
     "execution_count": 127,
     "metadata": {},
     "output_type": "execute_result"
    }
   ],
   "source": [
    "join_date = experience_section[0].find_all('span')[2].get_text().strip()\n",
    "join_date"
   ]
  },
  {
   "cell_type": "markdown",
   "metadata": {},
   "source": [
    "# Education Details Scraping"
   ]
  },
  {
   "cell_type": "raw",
   "metadata": {},
   "source": [
    "exp_section = soup.find_all('section', {'class': 'core-section-container core-section-container--with-border pp-section education'})\n",
    "exp_section"
   ]
  },
  {
   "cell_type": "markdown",
   "metadata": {},
   "source": [
    "### Eductaion Details"
   ]
  },
  {
   "cell_type": "code",
   "execution_count": 130,
   "metadata": {},
   "outputs": [
    {
     "data": {
      "text/plain": [
       "'Education'"
      ]
     },
     "execution_count": 130,
     "metadata": {},
     "output_type": "execute_result"
    }
   ],
   "source": [
    "Experienc= exp_section[0].find('').get_text().strip()\n",
    "Experienc"
   ]
  },
  {
   "cell_type": "code",
   "execution_count": 131,
   "metadata": {},
   "outputs": [
    {
     "data": {
      "text/plain": [
       "'Aditya College of Engineering, Madanapalle'"
      ]
     },
     "execution_count": 131,
     "metadata": {},
     "output_type": "execute_result"
    }
   ],
   "source": [
    "college_name = exp_section[0].find('h3').get_text().strip()\n",
    "college_name"
   ]
  },
  {
   "cell_type": "code",
   "execution_count": 132,
   "metadata": {},
   "outputs": [
    {
     "data": {
      "text/plain": [
       "'Bachelor of Technology - BTech'"
      ]
     },
     "execution_count": 132,
     "metadata": {},
     "output_type": "execute_result"
    }
   ],
   "source": [
    "\n",
    "Degree = exp_section[0].find_all('span')[1].get_text().strip()\n",
    "Degree"
   ]
  },
  {
   "cell_type": "code",
   "execution_count": 133,
   "metadata": {},
   "outputs": [
    {
     "data": {
      "text/plain": [
       "'Civil Engineering'"
      ]
     },
     "execution_count": 133,
     "metadata": {},
     "output_type": "execute_result"
    }
   ],
   "source": [
    "branch = exp_section[0].find_all('span')[2].get_text().strip()\n",
    "branch"
   ]
  },
  {
   "cell_type": "code",
   "execution_count": 134,
   "metadata": {},
   "outputs": [
    {
     "data": {
      "text/plain": [
       "'2015 - 2019'"
      ]
     },
     "execution_count": 134,
     "metadata": {},
     "output_type": "execute_result"
    }
   ],
   "source": [
    "\n",
    "Year = exp_section[0].find('p').get_text().strip()\n",
    "Year"
   ]
  },
  {
   "cell_type": "markdown",
   "metadata": {},
   "source": [
    "### Summary of the profile"
   ]
  },
  {
   "cell_type": "code",
   "execution_count": 135,
   "metadata": {},
   "outputs": [],
   "source": [
    "info = []\n",
    "info.append(link)\n",
    "info.append(name)\n",
    "info.append(profile_title)\n",
    "info.append(location)\n",
    "info.append(connections)\n",
    "info.append(Experience)\n",
    "info.append(company1)\n",
    "info.append(position1)\n",
    "info.append(join_date1)\n",
    "info.append(join_date)\n",
    "info.append(country)\n",
    "info.append(company)\n",
    "info.append(position)\n",
    "info.append(months)\n",
    "info.append(join_date)\n",
    "info.append(Experienc)\n",
    "info.append(college_name)\n",
    "info.append(Degree)\n",
    "info.append(branch)\n",
    "info.append(Year)\n",
    "info.append(country)\n"
   ]
  },
  {
   "cell_type": "markdown",
   "metadata": {},
   "source": [
    "# summary\n",
    "info"
   ]
  },
  {
   "cell_type": "code",
   "execution_count": 137,
   "metadata": {},
   "outputs": [
    {
     "data": {
      "text/plain": [
       "['https://www.linkedin.com/public-profile/settings?trk=d_flagship3_profile_self_view_public_profile',\n",
       " 'Kavya T',\n",
       " 'looking for Data Science job',\n",
       " 'Hyderabad, Telangana, India',\n",
       " '500+ connections',\n",
       " 'Experience',\n",
       " 'Data Science Intern',\n",
       " 'UnboundB2B',\n",
       " '3 months',\n",
       " 'Oct 2020 - Jun 20219 months',\n",
       " 'India',\n",
       " 'powertex',\n",
       " 'Python Developer',\n",
       " '9 months',\n",
       " 'Oct 2020 - Jun 20219 months',\n",
       " 'Education',\n",
       " 'Aditya College of Engineering, Madanapalle',\n",
       " 'Bachelor of Technology - BTech',\n",
       " 'Civil Engineering',\n",
       " '2015 - 2019',\n",
       " 'India']"
      ]
     },
     "execution_count": 137,
     "metadata": {},
     "output_type": "execute_result"
    }
   ],
   "source": [
    "info"
   ]
  },
  {
   "cell_type": "markdown",
   "metadata": {},
   "source": [
    "# Thanku The End #"
   ]
  }
 ],
 "metadata": {
  "kernelspec": {
   "display_name": "Python 3",
   "language": "python",
   "name": "python3"
  },
  "language_info": {
   "codemirror_mode": {
    "name": "ipython",
    "version": 3
   },
   "file_extension": ".py",
   "mimetype": "text/x-python",
   "name": "python",
   "nbconvert_exporter": "python",
   "pygments_lexer": "ipython3",
   "version": "3.8.0"
  }
 },
 "nbformat": 4,
 "nbformat_minor": 4
}
